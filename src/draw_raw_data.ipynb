{
 "cells": [
  {
   "cell_type": "code",
   "execution_count": 7,
   "metadata": {},
   "outputs": [
    {
     "name": "stdout",
     "output_type": "stream",
     "text": [
      "CSV file saved to output_ru_rf.csv\n"
     ]
    }
   ],
   "source": [
    "import json\n",
    "import pandas as pd\n",
    "\n",
    "# File paths for the two input JSON files\n",
    "file_path_rf = '/u/44/yangz2/unix/Documents/vs_code_programs/joint_angles/data/20240920T201312Z_175030000302_imu_stream.json'\n",
    "file_path_ru = '/u/44/yangz2/unix/Documents/vs_code_programs/joint_angles/data/20240920T201312Z_240930000239_imu_stream.json'\n",
    "\n",
    "def load_imu_data(file_path):\n",
    "    with open(file_path, 'r') as f:\n",
    "        data = json.load(f)['data']\n",
    "    return data\n",
    "\n",
    "# Extract the IMU data (timestamps, accelerometer, and gyroscope readings)\n",
    "def extract_imu_data(data):\n",
    "    timestamps = []\n",
    "    acc_x, acc_y, acc_z = [], [], []\n",
    "    gyr_x, gyr_y, gyr_z = [], [], []\n",
    "    \n",
    "    for entry in data:\n",
    "        imu = entry['imu']  # Access the 'imu' key\n",
    "        timestamps.append(imu['Timestamp'])\n",
    "        \n",
    "        # Extract the first accelerometer and gyroscope readings\n",
    "        acc_array = imu['ArrayAcc'][0]\n",
    "        gyro_array = imu['ArrayGyro'][0]\n",
    "        \n",
    "        acc_x.append(acc_array['x'])\n",
    "        acc_y.append(acc_array['y'])\n",
    "        acc_z.append(acc_array['z'])\n",
    "        \n",
    "        gyr_x.append(gyro_array['x'])\n",
    "        gyr_y.append(gyro_array['y'])\n",
    "        gyr_z.append(gyro_array['z'])\n",
    "    \n",
    "    return pd.DataFrame({\n",
    "        'timestamp': timestamps,\n",
    "        'Acc_X': acc_x,\n",
    "        'Acc_Y': acc_y,\n",
    "        'Acc_Z': acc_z,\n",
    "        'Gyro_X': gyr_x,\n",
    "        'Gyro_Y': gyr_y,\n",
    "        'Gyro_Z': gyr_z\n",
    "    })\n",
    "\n",
    "# Load and extract data for RF (Right Forearm)\n",
    "rf_data = load_imu_data(file_path_rf)\n",
    "rf_df = extract_imu_data(rf_data)\n",
    "rf_df.rename(columns={\n",
    "    'Acc_X': 'RF_IMU9_Acc_X', 'Acc_Y': 'RF_IMU9_Acc_Y', 'Acc_Z': 'RF_IMU9_Acc_Z',\n",
    "    'Gyro_X': 'RF_IMU9_Gyro_X', 'Gyro_Y': 'RF_IMU9_Gyro_Y', 'Gyro_Z': 'RF_IMU9_Gyro_Z'\n",
    "}, inplace=True)\n",
    "\n",
    "# Load and extract data for RU (Right Upper Arm)\n",
    "ru_data = load_imu_data(file_path_ru)\n",
    "ru_df = extract_imu_data(ru_data)\n",
    "ru_df.rename(columns={\n",
    "    'Acc_X': 'RU_IMU9_Acc_X', 'Acc_Y': 'RU_IMU9_Acc_Y', 'Acc_Z': 'RU_IMU9_Acc_Z',\n",
    "    'Gyro_X': 'RU_IMU9_Gyro_X', 'Gyro_Y': 'RU_IMU9_Gyro_Y', 'Gyro_Z': 'RU_IMU9_Gyro_Z'\n",
    "}, inplace=True)\n",
    "\n",
    "# Merge the two datasets on the 'timestamp' column\n",
    "merged_df = pd.merge(ru_df, rf_df, on='timestamp', suffixes=('_RU', '_RF'))\n",
    "\n",
    "# Save the merged data to a CSV file\n",
    "output_csv_path = 'output_ru_rf.csv'\n",
    "merged_df.to_csv(output_csv_path, index=False)\n",
    "\n",
    "print(f\"CSV file saved to {output_csv_path}\")\n"
   ]
  }
 ],
 "metadata": {
  "kernelspec": {
   "display_name": "base",
   "language": "python",
   "name": "python3"
  },
  "language_info": {
   "codemirror_mode": {
    "name": "ipython",
    "version": 3
   },
   "file_extension": ".py",
   "mimetype": "text/x-python",
   "name": "python",
   "nbconvert_exporter": "python",
   "pygments_lexer": "ipython3",
   "version": "3.8.5"
  }
 },
 "nbformat": 4,
 "nbformat_minor": 2
}
